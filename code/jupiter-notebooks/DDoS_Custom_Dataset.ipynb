{
  "nbformat": 4,
  "nbformat_minor": 0,
  "metadata": {
    "colab": {
      "provenance": []
    },
    "kernelspec": {
      "name": "python3",
      "display_name": "Python 3"
    },
    "language_info": {
      "name": "python"
    }
  },
  "cells": [
    {
      "cell_type": "markdown",
      "source": [
        "# Import the data from my Google drive"
      ],
      "metadata": {
        "id": "JzT4FoN79LBo"
      }
    },
    {
      "cell_type": "code",
      "execution_count": 1,
      "metadata": {
        "id": "cET4vdrp8wZd",
        "colab": {
          "base_uri": "https://localhost:8080/"
        },
        "outputId": "265508d2-ac20-4034-8d1a-415417a30176"
      },
      "outputs": [
        {
          "output_type": "stream",
          "name": "stdout",
          "text": [
            "Mounted at /content/drive/\n"
          ]
        }
      ],
      "source": [
        "\"\"\"\n",
        "This Jupiter notebook is for my custom dataset\n",
        "\n",
        "Author: Thomas Roethenbaugh\n",
        "Date: 2025-03-29\n",
        "Version: 1.4\n",
        "\"\"\"\n",
        "import pandas as pd\n",
        "import numpy as np\n",
        "import matplotlib.pyplot as plt\n",
        "\n",
        "# Mounting my google drive to pull in the datasets\n",
        "from google.colab import drive\n",
        "drive.mount('/content/drive/', force_remount=True)\n",
        "\n",
        "\n",
        "# List of the csv files to be imported and merged\n",
        "files = [\n",
        "    #\"/content/drive/MyDrive/DDoSTraffic.csv\",\n",
        "    #\"/content/drive/MyDrive/DDoSTraffic2.csv\",\n",
        "    \"/content/drive/MyDrive/DDoSTraffic2(DDOSLabel).csv\",\n",
        "    #\"/content/drive/MyDrive/DDoSTraffic(ddoslabel).csv\",\n",
        "    \"/content/drive/MyDrive/BenginTraffic.csv\",\n",
        "\n",
        "]\n",
        "\n",
        "# NOTE! The other files that are commented out above are other versions of the\n",
        "# dataset. A lot of data rows were collected (nearly 500,000) however, it there\n",
        "# were far more DDoS rows than benign. As a result I had to select a chunk of\n",
        "# each type of attack. I've kept it here for testing.\n"
      ]
    },
    {
      "cell_type": "markdown",
      "source": [
        "# Data cleaning"
      ],
      "metadata": {
        "id": "STQT-lr19Uv3"
      }
    },
    {
      "cell_type": "markdown",
      "source": [
        "## merge files into dataset"
      ],
      "metadata": {
        "id": "apaPG-unenDE"
      }
    },
    {
      "cell_type": "code",
      "source": [
        "merged_data = [] # merged data in one framw\n",
        "\n",
        "for file in files:\n",
        "    dataframe = pd.read_csv(file)\n",
        "    merged_data.append(dataframe)\n",
        "\n",
        "# Combine all the dataframes\n",
        "merged_data = pd.concat(merged_data, ignore_index=True) # This is the merged dataset\n",
        "print(\"Merged data shape\", merged_data.shape)"
      ],
      "metadata": {
        "id": "9MFGkMwyemin",
        "colab": {
          "base_uri": "https://localhost:8080/"
        },
        "outputId": "f875c338-cb3d-45df-a1cc-d42625c27127"
      },
      "execution_count": 2,
      "outputs": [
        {
          "output_type": "stream",
          "name": "stdout",
          "text": [
            "Merged data shape (194284, 8)\n"
          ]
        }
      ]
    },
    {
      "cell_type": "markdown",
      "source": [
        "## Remove duplicates"
      ],
      "metadata": {
        "id": "i6BqQMAugPvO"
      }
    },
    {
      "cell_type": "code",
      "source": [
        "# Show shape before and after removing duplicates\n",
        "print(merged_data.shape, \"Training shape before\")\n",
        "print(merged_data.duplicated().sum(), \"duplicate rows to remove\")\n",
        "merged_data.drop_duplicates(inplace=True)\n",
        "merged_data.reset_index(inplace=True, drop=True)\n",
        "print(merged_data.shape, \"Training shape after\")\n"
      ],
      "metadata": {
        "id": "u8EYEDvEgfrd",
        "colab": {
          "base_uri": "https://localhost:8080/"
        },
        "outputId": "ca83c1d0-8ea3-47f0-fd8f-ffb81b8282ff"
      },
      "execution_count": 3,
      "outputs": [
        {
          "output_type": "stream",
          "name": "stdout",
          "text": [
            "(194284, 8) Training shape before\n",
            "43078 duplicate rows to remove\n",
            "(151206, 8) Training shape after\n"
          ]
        }
      ]
    },
    {
      "cell_type": "markdown",
      "source": [
        "## order by labels"
      ],
      "metadata": {
        "id": "ePkLdpMEgoya"
      }
    },
    {
      "cell_type": "code",
      "source": [
        "# sort\n",
        "merged_data.sort_values(by=['label'])"
      ],
      "metadata": {
        "id": "2jUu3s7A9jex",
        "colab": {
          "base_uri": "https://localhost:8080/",
          "height": 424
        },
        "outputId": "55eaaa4b-4fd1-4cfd-c3f7-22ae81a265b2"
      },
      "execution_count": 4,
      "outputs": [
        {
          "output_type": "execute_result",
          "data": {
            "text/plain": [
              "        duration  flow_count     CPWE          CPRF     RFPSD       RFBSD  \\\n",
              "151205  0.742151           3  1.00000     14.372636  1.885618  140.949952   \n",
              "130391  1.633086           3  1.00000      6.531601  3.399346  400.776191   \n",
              "130392  0.957179           3  0.99718     11.143860  2.624669  204.486892   \n",
              "130393  1.124931           3  1.00000      9.482062  1.247219   92.182187   \n",
              "130394  1.491368           4  1.00000      5.364202  3.162278  318.866253   \n",
              "...          ...         ...      ...           ...       ...         ...   \n",
              "50403   0.000045          30  0.00000  23797.469504  0.249444   11.973304   \n",
              "50404   0.000051          31  0.00000  20231.794995  0.176685    8.480865   \n",
              "50405   0.000027          26  0.00000  45683.365555  0.575640   27.630701   \n",
              "50389   0.000050           9  0.00000  71014.670900  1.706921   81.932221   \n",
              "75602   0.000044          27  0.00000  26870.416016  0.546845   26.248574   \n",
              "\n",
              "        CFER   label  \n",
              "151205     0  Benign  \n",
              "130391     1  Benign  \n",
              "130392     0  Benign  \n",
              "130393     0  Benign  \n",
              "130394     0  Benign  \n",
              "...      ...     ...  \n",
              "50403     27    DDOS  \n",
              "50404      0    DDOS  \n",
              "50405      7    DDOS  \n",
              "50389      7    DDOS  \n",
              "75602      4    DDOS  \n",
              "\n",
              "[151206 rows x 8 columns]"
            ],
            "text/html": [
              "\n",
              "  <div id=\"df-f1a670f6-fd60-4a14-88aa-bdfd92fde92c\" class=\"colab-df-container\">\n",
              "    <div>\n",
              "<style scoped>\n",
              "    .dataframe tbody tr th:only-of-type {\n",
              "        vertical-align: middle;\n",
              "    }\n",
              "\n",
              "    .dataframe tbody tr th {\n",
              "        vertical-align: top;\n",
              "    }\n",
              "\n",
              "    .dataframe thead th {\n",
              "        text-align: right;\n",
              "    }\n",
              "</style>\n",
              "<table border=\"1\" class=\"dataframe\">\n",
              "  <thead>\n",
              "    <tr style=\"text-align: right;\">\n",
              "      <th></th>\n",
              "      <th>duration</th>\n",
              "      <th>flow_count</th>\n",
              "      <th>CPWE</th>\n",
              "      <th>CPRF</th>\n",
              "      <th>RFPSD</th>\n",
              "      <th>RFBSD</th>\n",
              "      <th>CFER</th>\n",
              "      <th>label</th>\n",
              "    </tr>\n",
              "  </thead>\n",
              "  <tbody>\n",
              "    <tr>\n",
              "      <th>151205</th>\n",
              "      <td>0.742151</td>\n",
              "      <td>3</td>\n",
              "      <td>1.00000</td>\n",
              "      <td>14.372636</td>\n",
              "      <td>1.885618</td>\n",
              "      <td>140.949952</td>\n",
              "      <td>0</td>\n",
              "      <td>Benign</td>\n",
              "    </tr>\n",
              "    <tr>\n",
              "      <th>130391</th>\n",
              "      <td>1.633086</td>\n",
              "      <td>3</td>\n",
              "      <td>1.00000</td>\n",
              "      <td>6.531601</td>\n",
              "      <td>3.399346</td>\n",
              "      <td>400.776191</td>\n",
              "      <td>1</td>\n",
              "      <td>Benign</td>\n",
              "    </tr>\n",
              "    <tr>\n",
              "      <th>130392</th>\n",
              "      <td>0.957179</td>\n",
              "      <td>3</td>\n",
              "      <td>0.99718</td>\n",
              "      <td>11.143860</td>\n",
              "      <td>2.624669</td>\n",
              "      <td>204.486892</td>\n",
              "      <td>0</td>\n",
              "      <td>Benign</td>\n",
              "    </tr>\n",
              "    <tr>\n",
              "      <th>130393</th>\n",
              "      <td>1.124931</td>\n",
              "      <td>3</td>\n",
              "      <td>1.00000</td>\n",
              "      <td>9.482062</td>\n",
              "      <td>1.247219</td>\n",
              "      <td>92.182187</td>\n",
              "      <td>0</td>\n",
              "      <td>Benign</td>\n",
              "    </tr>\n",
              "    <tr>\n",
              "      <th>130394</th>\n",
              "      <td>1.491368</td>\n",
              "      <td>4</td>\n",
              "      <td>1.00000</td>\n",
              "      <td>5.364202</td>\n",
              "      <td>3.162278</td>\n",
              "      <td>318.866253</td>\n",
              "      <td>0</td>\n",
              "      <td>Benign</td>\n",
              "    </tr>\n",
              "    <tr>\n",
              "      <th>...</th>\n",
              "      <td>...</td>\n",
              "      <td>...</td>\n",
              "      <td>...</td>\n",
              "      <td>...</td>\n",
              "      <td>...</td>\n",
              "      <td>...</td>\n",
              "      <td>...</td>\n",
              "      <td>...</td>\n",
              "    </tr>\n",
              "    <tr>\n",
              "      <th>50403</th>\n",
              "      <td>0.000045</td>\n",
              "      <td>30</td>\n",
              "      <td>0.00000</td>\n",
              "      <td>23797.469504</td>\n",
              "      <td>0.249444</td>\n",
              "      <td>11.973304</td>\n",
              "      <td>27</td>\n",
              "      <td>DDOS</td>\n",
              "    </tr>\n",
              "    <tr>\n",
              "      <th>50404</th>\n",
              "      <td>0.000051</td>\n",
              "      <td>31</td>\n",
              "      <td>0.00000</td>\n",
              "      <td>20231.794995</td>\n",
              "      <td>0.176685</td>\n",
              "      <td>8.480865</td>\n",
              "      <td>0</td>\n",
              "      <td>DDOS</td>\n",
              "    </tr>\n",
              "    <tr>\n",
              "      <th>50405</th>\n",
              "      <td>0.000027</td>\n",
              "      <td>26</td>\n",
              "      <td>0.00000</td>\n",
              "      <td>45683.365555</td>\n",
              "      <td>0.575640</td>\n",
              "      <td>27.630701</td>\n",
              "      <td>7</td>\n",
              "      <td>DDOS</td>\n",
              "    </tr>\n",
              "    <tr>\n",
              "      <th>50389</th>\n",
              "      <td>0.000050</td>\n",
              "      <td>9</td>\n",
              "      <td>0.00000</td>\n",
              "      <td>71014.670900</td>\n",
              "      <td>1.706921</td>\n",
              "      <td>81.932221</td>\n",
              "      <td>7</td>\n",
              "      <td>DDOS</td>\n",
              "    </tr>\n",
              "    <tr>\n",
              "      <th>75602</th>\n",
              "      <td>0.000044</td>\n",
              "      <td>27</td>\n",
              "      <td>0.00000</td>\n",
              "      <td>26870.416016</td>\n",
              "      <td>0.546845</td>\n",
              "      <td>26.248574</td>\n",
              "      <td>4</td>\n",
              "      <td>DDOS</td>\n",
              "    </tr>\n",
              "  </tbody>\n",
              "</table>\n",
              "<p>151206 rows × 8 columns</p>\n",
              "</div>\n",
              "    <div class=\"colab-df-buttons\">\n",
              "\n",
              "  <div class=\"colab-df-container\">\n",
              "    <button class=\"colab-df-convert\" onclick=\"convertToInteractive('df-f1a670f6-fd60-4a14-88aa-bdfd92fde92c')\"\n",
              "            title=\"Convert this dataframe to an interactive table.\"\n",
              "            style=\"display:none;\">\n",
              "\n",
              "  <svg xmlns=\"http://www.w3.org/2000/svg\" height=\"24px\" viewBox=\"0 -960 960 960\">\n",
              "    <path d=\"M120-120v-720h720v720H120Zm60-500h600v-160H180v160Zm220 220h160v-160H400v160Zm0 220h160v-160H400v160ZM180-400h160v-160H180v160Zm440 0h160v-160H620v160ZM180-180h160v-160H180v160Zm440 0h160v-160H620v160Z\"/>\n",
              "  </svg>\n",
              "    </button>\n",
              "\n",
              "  <style>\n",
              "    .colab-df-container {\n",
              "      display:flex;\n",
              "      gap: 12px;\n",
              "    }\n",
              "\n",
              "    .colab-df-convert {\n",
              "      background-color: #E8F0FE;\n",
              "      border: none;\n",
              "      border-radius: 50%;\n",
              "      cursor: pointer;\n",
              "      display: none;\n",
              "      fill: #1967D2;\n",
              "      height: 32px;\n",
              "      padding: 0 0 0 0;\n",
              "      width: 32px;\n",
              "    }\n",
              "\n",
              "    .colab-df-convert:hover {\n",
              "      background-color: #E2EBFA;\n",
              "      box-shadow: 0px 1px 2px rgba(60, 64, 67, 0.3), 0px 1px 3px 1px rgba(60, 64, 67, 0.15);\n",
              "      fill: #174EA6;\n",
              "    }\n",
              "\n",
              "    .colab-df-buttons div {\n",
              "      margin-bottom: 4px;\n",
              "    }\n",
              "\n",
              "    [theme=dark] .colab-df-convert {\n",
              "      background-color: #3B4455;\n",
              "      fill: #D2E3FC;\n",
              "    }\n",
              "\n",
              "    [theme=dark] .colab-df-convert:hover {\n",
              "      background-color: #434B5C;\n",
              "      box-shadow: 0px 1px 3px 1px rgba(0, 0, 0, 0.15);\n",
              "      filter: drop-shadow(0px 1px 2px rgba(0, 0, 0, 0.3));\n",
              "      fill: #FFFFFF;\n",
              "    }\n",
              "  </style>\n",
              "\n",
              "    <script>\n",
              "      const buttonEl =\n",
              "        document.querySelector('#df-f1a670f6-fd60-4a14-88aa-bdfd92fde92c button.colab-df-convert');\n",
              "      buttonEl.style.display =\n",
              "        google.colab.kernel.accessAllowed ? 'block' : 'none';\n",
              "\n",
              "      async function convertToInteractive(key) {\n",
              "        const element = document.querySelector('#df-f1a670f6-fd60-4a14-88aa-bdfd92fde92c');\n",
              "        const dataTable =\n",
              "          await google.colab.kernel.invokeFunction('convertToInteractive',\n",
              "                                                    [key], {});\n",
              "        if (!dataTable) return;\n",
              "\n",
              "        const docLinkHtml = 'Like what you see? Visit the ' +\n",
              "          '<a target=\"_blank\" href=https://colab.research.google.com/notebooks/data_table.ipynb>data table notebook</a>'\n",
              "          + ' to learn more about interactive tables.';\n",
              "        element.innerHTML = '';\n",
              "        dataTable['output_type'] = 'display_data';\n",
              "        await google.colab.output.renderOutput(dataTable, element);\n",
              "        const docLink = document.createElement('div');\n",
              "        docLink.innerHTML = docLinkHtml;\n",
              "        element.appendChild(docLink);\n",
              "      }\n",
              "    </script>\n",
              "  </div>\n",
              "\n",
              "\n",
              "    <div id=\"df-7f53f3ad-7af6-415f-a2c8-666ceb0f45b6\">\n",
              "      <button class=\"colab-df-quickchart\" onclick=\"quickchart('df-7f53f3ad-7af6-415f-a2c8-666ceb0f45b6')\"\n",
              "                title=\"Suggest charts\"\n",
              "                style=\"display:none;\">\n",
              "\n",
              "<svg xmlns=\"http://www.w3.org/2000/svg\" height=\"24px\"viewBox=\"0 0 24 24\"\n",
              "     width=\"24px\">\n",
              "    <g>\n",
              "        <path d=\"M19 3H5c-1.1 0-2 .9-2 2v14c0 1.1.9 2 2 2h14c1.1 0 2-.9 2-2V5c0-1.1-.9-2-2-2zM9 17H7v-7h2v7zm4 0h-2V7h2v10zm4 0h-2v-4h2v4z\"/>\n",
              "    </g>\n",
              "</svg>\n",
              "      </button>\n",
              "\n",
              "<style>\n",
              "  .colab-df-quickchart {\n",
              "      --bg-color: #E8F0FE;\n",
              "      --fill-color: #1967D2;\n",
              "      --hover-bg-color: #E2EBFA;\n",
              "      --hover-fill-color: #174EA6;\n",
              "      --disabled-fill-color: #AAA;\n",
              "      --disabled-bg-color: #DDD;\n",
              "  }\n",
              "\n",
              "  [theme=dark] .colab-df-quickchart {\n",
              "      --bg-color: #3B4455;\n",
              "      --fill-color: #D2E3FC;\n",
              "      --hover-bg-color: #434B5C;\n",
              "      --hover-fill-color: #FFFFFF;\n",
              "      --disabled-bg-color: #3B4455;\n",
              "      --disabled-fill-color: #666;\n",
              "  }\n",
              "\n",
              "  .colab-df-quickchart {\n",
              "    background-color: var(--bg-color);\n",
              "    border: none;\n",
              "    border-radius: 50%;\n",
              "    cursor: pointer;\n",
              "    display: none;\n",
              "    fill: var(--fill-color);\n",
              "    height: 32px;\n",
              "    padding: 0;\n",
              "    width: 32px;\n",
              "  }\n",
              "\n",
              "  .colab-df-quickchart:hover {\n",
              "    background-color: var(--hover-bg-color);\n",
              "    box-shadow: 0 1px 2px rgba(60, 64, 67, 0.3), 0 1px 3px 1px rgba(60, 64, 67, 0.15);\n",
              "    fill: var(--button-hover-fill-color);\n",
              "  }\n",
              "\n",
              "  .colab-df-quickchart-complete:disabled,\n",
              "  .colab-df-quickchart-complete:disabled:hover {\n",
              "    background-color: var(--disabled-bg-color);\n",
              "    fill: var(--disabled-fill-color);\n",
              "    box-shadow: none;\n",
              "  }\n",
              "\n",
              "  .colab-df-spinner {\n",
              "    border: 2px solid var(--fill-color);\n",
              "    border-color: transparent;\n",
              "    border-bottom-color: var(--fill-color);\n",
              "    animation:\n",
              "      spin 1s steps(1) infinite;\n",
              "  }\n",
              "\n",
              "  @keyframes spin {\n",
              "    0% {\n",
              "      border-color: transparent;\n",
              "      border-bottom-color: var(--fill-color);\n",
              "      border-left-color: var(--fill-color);\n",
              "    }\n",
              "    20% {\n",
              "      border-color: transparent;\n",
              "      border-left-color: var(--fill-color);\n",
              "      border-top-color: var(--fill-color);\n",
              "    }\n",
              "    30% {\n",
              "      border-color: transparent;\n",
              "      border-left-color: var(--fill-color);\n",
              "      border-top-color: var(--fill-color);\n",
              "      border-right-color: var(--fill-color);\n",
              "    }\n",
              "    40% {\n",
              "      border-color: transparent;\n",
              "      border-right-color: var(--fill-color);\n",
              "      border-top-color: var(--fill-color);\n",
              "    }\n",
              "    60% {\n",
              "      border-color: transparent;\n",
              "      border-right-color: var(--fill-color);\n",
              "    }\n",
              "    80% {\n",
              "      border-color: transparent;\n",
              "      border-right-color: var(--fill-color);\n",
              "      border-bottom-color: var(--fill-color);\n",
              "    }\n",
              "    90% {\n",
              "      border-color: transparent;\n",
              "      border-bottom-color: var(--fill-color);\n",
              "    }\n",
              "  }\n",
              "</style>\n",
              "\n",
              "      <script>\n",
              "        async function quickchart(key) {\n",
              "          const quickchartButtonEl =\n",
              "            document.querySelector('#' + key + ' button');\n",
              "          quickchartButtonEl.disabled = true;  // To prevent multiple clicks.\n",
              "          quickchartButtonEl.classList.add('colab-df-spinner');\n",
              "          try {\n",
              "            const charts = await google.colab.kernel.invokeFunction(\n",
              "                'suggestCharts', [key], {});\n",
              "          } catch (error) {\n",
              "            console.error('Error during call to suggestCharts:', error);\n",
              "          }\n",
              "          quickchartButtonEl.classList.remove('colab-df-spinner');\n",
              "          quickchartButtonEl.classList.add('colab-df-quickchart-complete');\n",
              "        }\n",
              "        (() => {\n",
              "          let quickchartButtonEl =\n",
              "            document.querySelector('#df-7f53f3ad-7af6-415f-a2c8-666ceb0f45b6 button');\n",
              "          quickchartButtonEl.style.display =\n",
              "            google.colab.kernel.accessAllowed ? 'block' : 'none';\n",
              "        })();\n",
              "      </script>\n",
              "    </div>\n",
              "\n",
              "    </div>\n",
              "  </div>\n"
            ],
            "application/vnd.google.colaboratory.intrinsic+json": {
              "type": "dataframe"
            }
          },
          "metadata": {},
          "execution_count": 4
        }
      ]
    },
    {
      "cell_type": "markdown",
      "source": [
        "# Data analysis / graphs"
      ],
      "metadata": {
        "id": "o8Em3WOF9k-O"
      }
    },
    {
      "cell_type": "code",
      "source": [
        "print(merged_data.info())"
      ],
      "metadata": {
        "id": "hrQ3v8XG9pve",
        "colab": {
          "base_uri": "https://localhost:8080/"
        },
        "outputId": "9fb9fac5-4979-4933-87fc-7cf0f6f627c1"
      },
      "execution_count": 5,
      "outputs": [
        {
          "output_type": "stream",
          "name": "stdout",
          "text": [
            "<class 'pandas.core.frame.DataFrame'>\n",
            "RangeIndex: 151206 entries, 0 to 151205\n",
            "Data columns (total 8 columns):\n",
            " #   Column      Non-Null Count   Dtype  \n",
            "---  ------      --------------   -----  \n",
            " 0   duration    151206 non-null  float64\n",
            " 1   flow_count  151206 non-null  int64  \n",
            " 2   CPWE        151206 non-null  float64\n",
            " 3   CPRF        151206 non-null  float64\n",
            " 4   RFPSD       151206 non-null  float64\n",
            " 5   RFBSD       151206 non-null  float64\n",
            " 6   CFER        151206 non-null  int64  \n",
            " 7   label       151206 non-null  object \n",
            "dtypes: float64(5), int64(2), object(1)\n",
            "memory usage: 9.2+ MB\n",
            "None\n"
          ]
        }
      ]
    },
    {
      "cell_type": "markdown",
      "source": [
        "## Remove rows for performence"
      ],
      "metadata": {
        "id": "u0WBZUUS4Nk_"
      }
    },
    {
      "cell_type": "code",
      "source": [
        "print(merged_data.shape)\n",
        "\"\"\"\n",
        "for index, row in merged_data.iterrows():\n",
        "    if row['label'] == 'UDPFlood':\n",
        "      merged_data.drop(index, inplace=True)\n",
        "    if row['label'] == 'LDAP':\n",
        "      merged_data.drop(index, inplace=True)\n",
        "    if row['label'] == 'Portmap':\n",
        "      merged_data.drop(index, inplace=True)\n",
        "    if row['label'] == 'UDPLag':\n",
        "      merged_data.drop(index, inplace=True)\n",
        "    #if row['label'] == 'SYN':\n",
        "    #  merged_data.drop(index, inplace=True)\n",
        "\"\"\"\n",
        "print(merged_data.shape)\n"
      ],
      "metadata": {
        "colab": {
          "base_uri": "https://localhost:8080/"
        },
        "id": "Cn7JXZbx4Q9r",
        "outputId": "124b2d03-f948-432c-dad8-3163c6b75327"
      },
      "execution_count": 6,
      "outputs": [
        {
          "output_type": "stream",
          "name": "stdout",
          "text": [
            "(151206, 8)\n",
            "(151206, 8)\n"
          ]
        }
      ]
    },
    {
      "cell_type": "markdown",
      "source": [
        "## Graphs to show distrutions of data"
      ],
      "metadata": {
        "id": "4oPGPucTg6cj"
      }
    },
    {
      "cell_type": "code",
      "source": [
        "import seaborn as sns\n",
        "\"\"\"\n",
        "# Frequency Distribution (Bar Plot)\n",
        "plt.figure(figsize=(12,6)) # size of visual representaion\n",
        "sns.countplot(data=merged_data, x=categorical_column, order = merged_data[categorical_column].value_counts().index) # Order by frequency\n",
        "plt.title(f'Frequency Distribution of {categorical_column} (Training Data)')\n",
        "plt.xlabel(categorical_column)\n",
        "plt.ylabel('Frequency (Count)')\n",
        "plt.xticks(rotation=45, ha='right')\n",
        "plt.tight_layout()\n",
        "plt.show()\n",
        "\"\"\""
      ],
      "metadata": {
        "id": "8xdIwD9ShJEs",
        "colab": {
          "base_uri": "https://localhost:8080/",
          "height": 70
        },
        "outputId": "5d0fb59a-d04a-44e3-87da-2bfc0d692404"
      },
      "execution_count": 7,
      "outputs": [
        {
          "output_type": "execute_result",
          "data": {
            "text/plain": [
              "\"\\n# Frequency Distribution (Bar Plot)\\nplt.figure(figsize=(12,6)) # size of visual representaion\\nsns.countplot(data=merged_data, x=categorical_column, order = merged_data[categorical_column].value_counts().index) # Order by frequency\\nplt.title(f'Frequency Distribution of {categorical_column} (Training Data)')\\nplt.xlabel(categorical_column)\\nplt.ylabel('Frequency (Count)')\\nplt.xticks(rotation=45, ha='right')\\nplt.tight_layout()\\nplt.show()\\n\""
            ],
            "application/vnd.google.colaboratory.intrinsic+json": {
              "type": "string"
            }
          },
          "metadata": {},
          "execution_count": 7
        }
      ]
    },
    {
      "cell_type": "markdown",
      "source": [
        "Show bengin vs DDoS traffic distribution"
      ],
      "metadata": {
        "id": "UxP1wt8bWqCs"
      }
    },
    {
      "cell_type": "code",
      "source": [
        "# merge testing training data\n",
        "print(merged_data.shape)\n",
        "\n",
        "print(\"\\n\")\n",
        "\n",
        "categorical_column = 'label' # Specify the categorical column to visualize\n",
        "\n",
        "\"\"\"\n",
        "#### CONVERT LABELS TO DDOS AND BENIGN ONLY ####\n",
        "for index, row in merged_data.iterrows():\n",
        "    if row['Label'] == 'NTP':\n",
        "        merged_data.at[index, 'Label'] = 'DDOS'\n",
        "    if row['Label'] == 'TFTP':\n",
        "        merged_data.at[index, 'Label'] = 'DDOS'\n",
        "    if row['Label'] == 'Syn':\n",
        "        merged_data.at[index, 'Label'] = 'DDOS'\n",
        "    if row['Label'] == 'UDP':\n",
        "        merged_data.at[index, 'Label'] = 'DDOS'\n",
        "    if row['Label'] == 'MSSQL':\n",
        "        merged_data.at[index, 'Label'] = 'DDOS'\n",
        "    if row['Label'] == 'UDP-lag':\n",
        "        merged_data.at[index, 'Label'] = 'DDOS'\n",
        "    if row['Label'] == 'DNS':\n",
        "        merged_data.at[index, 'Label'] = 'DDOS'\n",
        "    if row['Label'] == 'LDAP':\n",
        "        merged_data.at[index, 'Label'] = 'DDOS'\n",
        "    if row['Label'] == 'SNMP':\n",
        "        merged_data.at[index, 'Label'] = 'DDOS'\n",
        "    if row['Label'] == 'NetBIOS':\n",
        "        merged_data.at[index, 'Label'] = 'DDOS'\n",
        "    if row['Label'] == 'Portmap':\n",
        "        merged_data.at[index, 'Label'] = 'DDOS'\n",
        "\n",
        "\n",
        "merged_data = merged_data.drop('Traffic_Category', axis=1)\n",
        "\"\"\"\n",
        "\n",
        "\n",
        "# Percentage Distribution (Pie Chart)\n",
        "label_counts = merged_data[categorical_column].value_counts()\n",
        "plt.figure(figsize=(4, 4))\n",
        "plt.pie(label_counts, labels=label_counts.index, autopct='%1.1f%%', startangle=140)\n",
        "plt.title(f'Percentage Distribution of {categorical_column} Full Dataset')\n",
        "plt.axis('equal')\n",
        "plt.tight_layout()\n",
        "plt.show()\n"
      ],
      "metadata": {
        "colab": {
          "base_uri": "https://localhost:8080/",
          "height": 458
        },
        "id": "y71HeEC-WuWi",
        "outputId": "1636fbcf-52d7-45bc-898b-90ac692117d9"
      },
      "execution_count": 8,
      "outputs": [
        {
          "output_type": "stream",
          "name": "stdout",
          "text": [
            "(151206, 8)\n",
            "\n",
            "\n"
          ]
        },
        {
          "output_type": "display_data",
          "data": {
            "text/plain": [
              "<Figure size 400x400 with 1 Axes>"
            ],
            "image/png": "[encoded data removed]"
          },
          "metadata": {}
        }
      ]
    },
    {
      "cell_type": "markdown",
      "source": [
        "# Training / testing of ML models"
      ],
      "metadata": {
        "id": "HTRafFvW9rCG"
      }
    },
    {
      "cell_type": "markdown",
      "source": [
        "## Import all required packages"
      ],
      "metadata": {
        "id": "DdmKVqyMh1Wd"
      }
    },
    {
      "cell_type": "code",
      "source": [
        "# ML Model Testing and Analysis Section\n",
        "from sklearn.model_selection import train_test_split, cross_val_score, StratifiedKFold\n",
        "from sklearn.metrics import accuracy_score, precision_score, recall_score, f1_score, roc_auc_score, confusion_matrix\n",
        "from sklearn.preprocessing import StandardScaler, OneHotEncoder, LabelEncoder\n",
        "from sklearn.ensemble import RandomForestClassifier\n",
        "from sklearn.tree import DecisionTreeClassifier\n",
        "from sklearn.neighbors import KNeighborsClassifier\n",
        "from sklearn.compose import ColumnTransformer\n",
        "from sklearn.pipeline import Pipeline\n",
        "import time"
      ],
      "metadata": {
        "id": "pHdlyGQH90y-"
      },
      "execution_count": 9,
      "outputs": []
    },
    {
      "cell_type": "markdown",
      "source": [
        "## Encode string column types into ints for the ML models"
      ],
      "metadata": {
        "id": "LThw3wpSjgBs"
      }
    },
    {
      "cell_type": "code",
      "source": [
        "## REUSED CODE FROM THE DDos-data-manipulation NOTEBOOK ##\n",
        "# Identify categorical columns (object or string dtypes)\n",
        "categorical_columnss = merged_data.select_dtypes(include=['object', 'string']).columns.tolist()\n",
        "print(f\"\\nCategorical columns found: {categorical_columnss}\")\n",
        "\n",
        "\n",
        "# Handle the target variable\n",
        "# Check if 'Label' is in the dataset\n",
        "if 'label' in merged_data.columns:\n",
        "    print(\"\\nUnique values in the Label column:\")\n",
        "    print(merged_data['label'].value_counts())\n",
        "\n",
        "    data_percentage = merged_data['label'].value_counts('Bengin')\n",
        "\n",
        "    percent = (len(data_percentage) / len(data_percentage)) * 100\n",
        "\n",
        "    print(percent)\n",
        "\n",
        "\n",
        "    # Separate features and target\n",
        "    X = merged_data.drop('label', axis=1)\n",
        "    y = merged_data['label']\n",
        "\n",
        "    # Encode the target variable to see if it's an object or string\n",
        "    if y.dtype == 'object' or y.dtype == 'string':\n",
        "        label_encoder = LabelEncoder()\n",
        "        y = label_encoder.fit_transform(y)\n",
        "        print(\"\\nTarget variable encoded. Mapping:\")\n",
        "        for i, label in enumerate(label_encoder.classes_):\n",
        "            print(f\"{label} -> {i}\")\n",
        "else:\n",
        "    print(\"Error: 'label' column not found in the dataset.\")\n",
        "    # If no Label column, check expected column names\n",
        "    print(\"Available columns:\", merged_data.columns.tolist())\n",
        "\n",
        "print(X.shape, y.shape)\n",
        "print(merged_data.info())\n",
        "print(merged_data.shape)"
      ],
      "metadata": {
        "id": "rqQkpeXqjqKb",
        "colab": {
          "base_uri": "https://localhost:8080/"
        },
        "outputId": "d4459fd0-8eb2-4482-b678-466a943fe89c"
      },
      "execution_count": 10,
      "outputs": [
        {
          "output_type": "stream",
          "name": "stdout",
          "text": [
            "\n",
            "Categorical columns found: ['label']\n",
            "\n",
            "Unique values in the Label column:\n",
            "label\n",
            "DDOS      119997\n",
            "Benign     31209\n",
            "Name: count, dtype: int64\n",
            "100.0\n",
            "\n",
            "Target variable encoded. Mapping:\n",
            "Benign -> 0\n",
            "DDOS -> 1\n",
            "(151206, 7) (151206,)\n",
            "<class 'pandas.core.frame.DataFrame'>\n",
            "RangeIndex: 151206 entries, 0 to 151205\n",
            "Data columns (total 8 columns):\n",
            " #   Column      Non-Null Count   Dtype  \n",
            "---  ------      --------------   -----  \n",
            " 0   duration    151206 non-null  float64\n",
            " 1   flow_count  151206 non-null  int64  \n",
            " 2   CPWE        151206 non-null  float64\n",
            " 3   CPRF        151206 non-null  float64\n",
            " 4   RFPSD       151206 non-null  float64\n",
            " 5   RFBSD       151206 non-null  float64\n",
            " 6   CFER        151206 non-null  int64  \n",
            " 7   label       151206 non-null  object \n",
            "dtypes: float64(5), int64(2), object(1)\n",
            "memory usage: 9.2+ MB\n",
            "None\n",
            "(151206, 8)\n"
          ]
        }
      ]
    },
    {
      "cell_type": "markdown",
      "source": [
        "## split the data 80/20 for ML"
      ],
      "metadata": {
        "id": "e4dVNY05j6sC"
      }
    },
    {
      "cell_type": "code",
      "source": [
        "# Remove any remaining categorical columns from features\n",
        "# that shouldn't be used in the model\n",
        "X_cleaned = X.copy()\n",
        "for col in categorical_columnss:\n",
        "    if col in X_cleaned.columns and col != 'label':\n",
        "        print(f\"Removing categorical column '{col}' from features\")\n",
        "        X_cleaned = X_cleaned.drop(col, axis=1)\n",
        "\n",
        "# Split data into training and testing sets (80% train, 20% test)\n",
        "X_train, X_test, y_train, y_test = train_test_split(\n",
        "    X_cleaned, y, test_size=0.2, random_state=42, stratify=y # 0.2\n",
        ")\n"
      ],
      "metadata": {
        "id": "58vE1b1_kdaD"
      },
      "execution_count": 11,
      "outputs": []
    },
    {
      "cell_type": "markdown",
      "source": [
        "## scale features and initalise the ML models that will be used"
      ],
      "metadata": {
        "id": "g98zRfsFlVSu"
      }
    },
    {
      "cell_type": "code",
      "source": [
        "# scaleall the features\n",
        "scaler = StandardScaler()\n",
        "X_train_scaled = scaler.fit_transform(X_train)\n",
        "X_test_scaled = scaler.transform(X_test)\n",
        "\n",
        "# Initialize models into a list with values tested for accuracy\n",
        "# and performence\n",
        "models = {\n",
        "    \"Decision Tree\": DecisionTreeClassifier(\n",
        "        max_depth=3, # 15\n",
        "        #min_samples_split=5,\n",
        "        #min_samples_leaf=2,\n",
        "        random_state=1\n",
        "    ),\n",
        "    \"Random Forest\": RandomForestClassifier(\n",
        "        n_estimators=100, # 100\n",
        "        max_depth=3, # 15\n",
        "        #min_samples_split=5, # 5\n",
        "        #min_samples_leaf=2, # 2\n",
        "        random_state=1, # 42\n",
        "        n_jobs=-1\n",
        "    ),\n",
        "\n",
        "    \"KNN\": KNeighborsClassifier(\n",
        "        n_neighbors=5,\n",
        "        weights='distance',\n",
        "        algorithm='auto',\n",
        "        n_jobs=-1\n",
        "    )\n",
        "}\n",
        "\n",
        "# Dictionary to store the results\n",
        "results = {\n",
        "    'Model': [],\n",
        "    'Training Time (s)': [],\n",
        "    'Accuracy': [],\n",
        "    'Precision': [],\n",
        "    'Recall': [],\n",
        "    'F1 Score': [],\n",
        "    'ROC AUC': [],\n",
        "    'CV Score': []\n",
        "}"
      ],
      "metadata": {
        "id": "ZMswW-eAlWD9"
      },
      "execution_count": 12,
      "outputs": []
    },
    {
      "cell_type": "markdown",
      "source": [
        "## Train each model on the dataset"
      ],
      "metadata": {
        "id": "iNuVEcrXltHr"
      }
    },
    {
      "cell_type": "code",
      "source": [
        "for name, model in models.items():\n",
        "    print(f\"\\n{'='*50}\")\n",
        "    print(f\"Training and evaluating {name}...\")\n",
        "\n",
        "    # Train the model with timing to show how long it took to train\n",
        "    start_time = time.time()\n",
        "    model.fit(X_train_scaled, y_train)\n",
        "    training_time = time.time() - start_time\n",
        "\n",
        "    # Make predictions\n",
        "    y_pred = model.predict(X_test_scaled)\n",
        "\n",
        "    # For models that support probability predictions\n",
        "    if hasattr(model, \"predict_proba\"):\n",
        "        y_pred_proba = model.predict_proba(X_test_scaled)\n",
        "    #else:\n",
        "        # For SVM without probability=True\n",
        "     #   y_pred_proba = None\n",
        "\n",
        "    # Calculate metrics\n",
        "    accuracy = accuracy_score(y_test, y_pred)\n",
        "    precision = precision_score(y_test, y_pred, average='weighted')\n",
        "    recall = recall_score(y_test, y_pred, average='weighted')\n",
        "    f1 = f1_score(y_test, y_pred, average='weighted')\n",
        "\n",
        "    # Calculate ROC AUC for multi-class\n",
        "    if y_pred_proba is not None:\n",
        "        try:\n",
        "            roc_auc = roc_auc_score(y_test, y_pred_proba, multi_class='ovr')\n",
        "        except:\n",
        "            roc_auc = np.nan\n",
        "    else:\n",
        "        roc_auc = np.nan\n",
        "\n",
        "    # Perform cross-validation\n",
        "    cv = StratifiedKFold(n_splits=5, shuffle=True, random_state=42)\n",
        "    cv_scores = cross_val_score(model, X_train_scaled, y_train, cv=cv, scoring='f1_weighted')\n",
        "    cv_mean = cv_scores.mean()\n",
        "\n",
        "     # Store the results\n",
        "    results['Model'].append(name)\n",
        "    results['Training Time (s)'].append(training_time)\n",
        "    results['Accuracy'].append(accuracy)\n",
        "    results['Precision'].append(precision)\n",
        "    results['Recall'].append(recall)\n",
        "    results['F1 Score'].append(f1)\n",
        "    results['ROC AUC'].append(roc_auc)\n",
        "    results['CV Score'].append(cv_mean)\n",
        "\n",
        "\n",
        "    # print the stored results to check performence\n",
        "    print(f\"{name} Results:\")\n",
        "    print(f\"Training Time: {training_time:.2f} seconds\")\n",
        "    print(f\"Accuracy: {accuracy:.4f}\")\n",
        "    print(f\"Precision: {precision:.4f}\")\n",
        "    print(f\"Recall: {recall:.4f}\")\n",
        "    print(f\"F1 Score: {f1:.4f}\")\n",
        "    if not np.isnan(roc_auc):\n",
        "        print(f\"ROC AUC: {roc_auc:.4f}\")\n",
        "\n",
        "    print(f\"Cross-Validation Score (F1): {cv_mean:.4f} (std: {cv_scores.std():.4f})\")\n",
        "\n",
        "# results DataFrame and sort by the F1 score\n",
        "results_df = pd.DataFrame(results)\n",
        "results_df = results_df.sort_values('F1 Score', ascending=False).reset_index(drop=True)\n",
        "\n",
        "print(\"\\nModel Comparison:\")\n",
        "print(results_df)\n",
        "\n",
        "# Save the best model\n",
        "best_model_name = results_df.loc[0, 'Model']\n",
        "best_model = models[best_model_name]\n",
        "print(f\"\\nBest performing model based on F1 Score is: {best_model_name}\")\n",
        "\n",
        "import pickle\n",
        "\n",
        "best_model.fit(X, y)\n",
        "\n",
        "# save\n",
        "with open('/content/drive/MyDrive/trainedCustomModel.pkl','wb') as f:\n",
        "    pickle.dump(best_model,f)\n",
        "\n",
        "# load\n",
        "#with open('model.pkl', 'rb') as f:\n",
        "#    clf2 = pickle.load(f)\n"
      ],
      "metadata": {
        "id": "8QgU_RsWmDzO",
        "colab": {
          "base_uri": "https://localhost:8080/"
        },
        "outputId": "a61b14f2-9df2-4f9e-a03c-d584089cf3d0"
      },
      "execution_count": 13,
      "outputs": [
        {
          "output_type": "stream",
          "name": "stdout",
          "text": [
            "\n",
            "==================================================\n",
            "Training and evaluating Decision Tree...\n",
            "Decision Tree Results:\n",
            "Training Time: 0.15 seconds\n",
            "Accuracy: 1.0000\n",
            "Precision: 1.0000\n",
            "Recall: 1.0000\n",
            "F1 Score: 1.0000\n",
            "Cross-Validation Score (F1): 1.0000 (std: 0.0000)\n",
            "\n",
            "==================================================\n",
            "Training and evaluating Random Forest...\n",
            "Random Forest Results:\n",
            "Training Time: 4.76 seconds\n",
            "Accuracy: 1.0000\n",
            "Precision: 1.0000\n",
            "Recall: 1.0000\n",
            "F1 Score: 1.0000\n",
            "Cross-Validation Score (F1): 1.0000 (std: 0.0000)\n",
            "\n",
            "==================================================\n",
            "Training and evaluating KNN...\n",
            "KNN Results:\n",
            "Training Time: 0.28 seconds\n",
            "Accuracy: 1.0000\n",
            "Precision: 1.0000\n",
            "Recall: 1.0000\n",
            "F1 Score: 1.0000\n",
            "Cross-Validation Score (F1): 1.0000 (std: 0.0000)\n",
            "\n",
            "Model Comparison:\n",
            "           Model  Training Time (s)  Accuracy  Precision  Recall  F1 Score  \\\n",
            "0  Decision Tree           0.152181       1.0        1.0     1.0       1.0   \n",
            "1  Random Forest           4.760997       1.0        1.0     1.0       1.0   \n",
            "2            KNN           0.277966       1.0        1.0     1.0       1.0   \n",
            "\n",
            "   ROC AUC  CV Score  \n",
            "0      NaN  0.999983  \n",
            "1      NaN  0.999967  \n",
            "2      NaN  0.999950  \n",
            "\n",
            "Best performing model based on F1 Score is: Decision Tree\n"
          ]
        }
      ]
    },
    {
      "cell_type": "markdown",
      "source": [
        "## random forrest feature importance"
      ],
      "metadata": {
        "id": "_OZOk_y9vIl3"
      }
    },
    {
      "cell_type": "code",
      "source": [
        "# Save the best model\n",
        "best_model_name = results_df.loc[1, 'Model']\n",
        "best_model = models[best_model_name]\n",
        "print(f\"\\nBest performing model based on F1 Score is: {best_model_name}\")\n",
        "\n",
        "# Feature importance for radom forrest\n",
        "if best_model_name in [\"Random Forest\"]:\n",
        "    print(\"\\nImportant Features:\")\n",
        "    feature_importance = best_model.feature_importances_\n",
        "\n",
        "    # Create a DataFrame for feature importance\n",
        "    importance_df = pd.DataFrame({\n",
        "        'Feature': X_cleaned.columns,\n",
        "        'Importance': feature_importance\n",
        "    }).sort_values('Importance', ascending=False).head(34)\n",
        "\n",
        "    # Plot feature importance\n",
        "    plt.figure(figsize=(12, 6))\n",
        "    sns.barplot(x='Importance', y='Feature', data=importance_df)\n",
        "    plt.title(f'Feature importance for the model {best_model_name}')\n",
        "    plt.tight_layout()\n",
        "    plt.show()\n",
        "\n",
        "    print(importance_df)"
      ],
      "metadata": {
        "id": "IPzNiODpvLeu",
        "colab": {
          "base_uri": "https://localhost:8080/",
          "height": 815
        },
        "outputId": "f88153c6-9f81-4cc5-faa4-4082f793fab0"
      },
      "execution_count": 14,
      "outputs": [
        {
          "output_type": "stream",
          "name": "stdout",
          "text": [
            "\n",
            "Best performing model based on F1 Score is: Random Forest\n",
            "\n",
            "Important Features:\n"
          ]
        },
        {
          "output_type": "display_data",
          "data": {
            "text/plain": [
              "<Figure size 1200x600 with 1 Axes>"
            ],
            "image/png": "[encoded data removed]"
          },
          "metadata": {}
        },
        {
          "output_type": "stream",
          "name": "stdout",
          "text": [
            "      Feature  Importance\n",
            "1  flow_count    0.337227\n",
            "0    duration    0.222548\n",
            "3        CPRF    0.185926\n",
            "5       RFBSD    0.105545\n",
            "4       RFPSD    0.081489\n",
            "2        CPWE    0.048905\n",
            "6        CFER    0.018360\n"
          ]
        }
      ]
    },
    {
      "cell_type": "markdown",
      "source": [
        "## Ensamble voting"
      ],
      "metadata": {
        "id": "MdpfQiItu_LV"
      }
    },
    {
      "cell_type": "code",
      "source": [
        "# Import ensemble classes for classification\n",
        "from sklearn.ensemble import VotingClassifier\n",
        "\n",
        "\n",
        "voting_estimators = [\n",
        "\n",
        "    ('decisiontree', DecisionTreeClassifier(\n",
        "        max_depth=15, # 15\n",
        "        min_samples_split=5,\n",
        "        min_samples_leaf=2,\n",
        "        random_state=1)),\n",
        "\n",
        "    ('randomforrest', RandomForestClassifier(n_estimators=100 , # 100\n",
        "                                  max_depth=15, # 15\n",
        "                                  min_samples_split= 5, # 5\n",
        "                                   min_samples_leaf=2,\n",
        "                                  random_state=1, # 42\n",
        "                                  n_jobs=-1)),\n",
        "\n",
        "    ('knearest', KNeighborsClassifier(n_neighbors=5, # 5\n",
        "                                 weights='distance',\n",
        "                                 n_jobs=-1))\n",
        "\n",
        "]\n",
        "\n",
        "# VotingClassifier with soft voting ( with averaging the predicted probabilities)\n",
        "voting_clf = VotingClassifier(\n",
        "    estimators=voting_estimators,\n",
        "    voting='hard',\n",
        "    n_jobs=-1)\n",
        "\n",
        "# Train the Voting Classifier\n",
        "start_time = time.time()\n",
        "voting_clf.fit(X_train_scaled, y_train)\n",
        "voting_training_time = time.time() -start_time\n",
        "\n",
        "# Predict on the test datset\n",
        "voting_pred = voting_clf.predict(X_test_scaled)\n",
        "\n",
        "# Calculate performance metrics\n",
        "voting_accuracy = accuracy_score(y_test, voting_pred )\n",
        "voting_precision = precision_score(y_test, voting_pred, average='weighted')\n",
        "voting_recall = recall_score(y_test, voting_pred, average='weighted')\n",
        "voting_f1 = f1_score(y_test, voting_pred, average='weighted')\n",
        "\n",
        "# If probabilities are available, calculate ROC AUC\n",
        "if hasattr(voting_clf, \"predict_proba\"):\n",
        "    voting_pred_proba = voting_clf.predict_proba(X_test_scaled)\n",
        "\n",
        "    try:\n",
        "        voting_roc_auc = roc_auc_score(y_test, voting_pred_proba, multi_class='ovr')\n",
        "    except Exception as e:\n",
        "        voting_roc_auc = np.nan\n",
        "else:\n",
        "    voting_roc_auc = np.nan\n",
        "\n",
        "# Print results\n",
        "print(\"Voting Classifier Results:\")\n",
        "print(f\"Training Time: {voting_training_time:.2f} seconds\")\n",
        "print(f\"Accuracy:{voting_accuracy:.4f}\")\n",
        "print(f\"Precision: {voting_precision:.4f}\")\n",
        "print(f\"Recall: {voting_recall:.4f}\")\n",
        "print(f\"F1 Score: {voting_f1:.4f}\")"
      ],
      "metadata": {
        "id": "7-_OyK4BvBM7",
        "colab": {
          "base_uri": "https://localhost:8080/"
        },
        "outputId": "c1698d0b-d54a-4aef-b074-77a179da1e4d"
      },
      "execution_count": 15,
      "outputs": [
        {
          "output_type": "stream",
          "name": "stdout",
          "text": [
            "Voting Classifier Results:\n",
            "Training Time: 8.97 seconds\n",
            "Accuracy:1.0000\n",
            "Precision: 1.0000\n",
            "Recall: 1.0000\n",
            "F1 Score: 1.0000\n"
          ]
        }
      ]
    }
  ]
}